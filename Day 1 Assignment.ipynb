{
 "cells": [
  {
   "cell_type": "markdown",
   "metadata": {},
   "source": [
    "Create a greeting for your program.\n",
    "Ask the user for the city that they grew up in.\n",
    "Ask the user for the name of a pet.\n",
    "Combine the name of that city and pet and show them their band name.\n",
    "Make sure the input cursor shows on a new line."
   ]
  },
  {
   "cell_type": "code",
   "execution_count": 5,
   "metadata": {},
   "outputs": [
    {
     "name": "stdout",
     "output_type": "stream",
     "text": [
      "Greetings! I am a simple name generator.\n",
      "your band name base on your entry is chesterLA\n",
      "\n",
      "Pet entry: chester \n",
      "\n",
      "City entry: LA\n"
     ]
    }
   ],
   "source": [
    "\n",
    "print('Greetings! I am a simple name generator.')\n",
    "pet = input(str('Please provide the name of a pet.'))\n",
    "city = input(str('Thank you for your pets nmae. Now please provide the name of a city.'))\n",
    "print(f'your band name base on your entry is {pet}{city}\\n\\nPet entry: {pet} \\n\\nCity entry: {city}')\n"
   ]
  },
  {
   "cell_type": "markdown",
   "metadata": {},
   "source": [
    "Now lets see how AI would have handled it:"
   ]
  },
  {
   "cell_type": "code",
   "execution_count": null,
   "metadata": {},
   "outputs": [],
   "source": [
    "print('Greetings! I am a simple name generator.')\n",
    "city = input('Please provide the name of the city you grew up in: ')\n",
    "pet = input('Please provide the name of a pet: ')\n",
    "band_name = city + pet\n",
    "print(f'Your band name based on your entry is {band_name}')\n"
   ]
  }
 ],
 "metadata": {
  "kernelspec": {
   "display_name": "Python 3",
   "language": "python",
   "name": "python3"
  },
  "language_info": {
   "codemirror_mode": {
    "name": "ipython",
    "version": 3
   },
   "file_extension": ".py",
   "mimetype": "text/x-python",
   "name": "python",
   "nbconvert_exporter": "python",
   "pygments_lexer": "ipython3",
   "version": "3.12.1"
  }
 },
 "nbformat": 4,
 "nbformat_minor": 2
}
